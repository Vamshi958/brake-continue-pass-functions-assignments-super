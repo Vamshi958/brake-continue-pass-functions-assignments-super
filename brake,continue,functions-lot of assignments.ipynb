{
 "cells": [
  {
   "cell_type": "code",
   "execution_count": 17,
   "id": "b2ef24ac-a0b9-4ae5-b993-5fddb724ba70",
   "metadata": {},
   "outputs": [
    {
     "name": "stdout",
     "output_type": "stream",
     "text": [
      "positive number\n",
      "this is always prints\n"
     ]
    }
   ],
   "source": [
    "#brake and continue,pass\n",
    "number=23\n",
    "\n",
    "if number >0:\n",
    "    print(\"positive number\")\n",
    "elif number ==0:\n",
    "    print(\"zero\")\n",
    "else:\n",
    "    print(\"negative no\")\n",
    "print(\"this is always prints\")"
   ]
  },
  {
   "cell_type": "code",
   "execution_count": 18,
   "id": "0254abe8-a138-464b-9b53-d59dce3585ed",
   "metadata": {},
   "outputs": [
    {
     "name": "stdout",
     "output_type": "stream",
     "text": [
      "0\n",
      "1\n",
      "2\n",
      "3\n",
      "4\n"
     ]
    }
   ],
   "source": [
    "for i in range(5):\n",
    "    print(i)"
   ]
  },
  {
   "cell_type": "code",
   "execution_count": 19,
   "id": "d01068fa-9014-4c6d-b243-603119bab70b",
   "metadata": {},
   "outputs": [
    {
     "name": "stdout",
     "output_type": "stream",
     "text": [
      "today ismon\n",
      "today istue\n",
      "today iswed\n",
      "today isthur\n",
      "today isfri\n",
      "today issat\n",
      "today issun\n"
     ]
    }
   ],
   "source": [
    "days=0\n",
    "week=['mon','tue','wed','thur','fri','sat','sun']\n",
    "while days<7:\n",
    "    print(\"today is\"+week[days])\n",
    "    days+=1"
   ]
  },
  {
   "cell_type": "code",
   "execution_count": 20,
   "id": "20931974-4797-4083-a0e3-fde0168fe9a2",
   "metadata": {},
   "outputs": [
    {
     "data": {
      "text/plain": [
       "'mon'"
      ]
     },
     "execution_count": 20,
     "metadata": {},
     "output_type": "execute_result"
    }
   ],
   "source": [
    "week[0]"
   ]
  },
  {
   "cell_type": "code",
   "execution_count": 23,
   "id": "2146124f-26b2-4e9d-9ef3-6352ee497667",
   "metadata": {},
   "outputs": [],
   "source": [
    "#spli"
   ]
  },
  {
   "cell_type": "code",
   "execution_count": 25,
   "id": "4302e262-3050-47d4-ba03-4b8ea182b209",
   "metadata": {},
   "outputs": [
    {
     "data": {
      "text/plain": [
       "['i', 'write', 'code']"
      ]
     },
     "execution_count": 25,
     "metadata": {},
     "output_type": "execute_result"
    }
   ],
   "source": [
    "text=\"i write code\"\n",
    "text.split()      #where ever we have spaces ,it will split"
   ]
  },
  {
   "cell_type": "code",
   "execution_count": 27,
   "id": "d99f35f1-64c6-4f70-a9a8-b4d571af8d75",
   "metadata": {},
   "outputs": [
    {
     "data": {
      "text/plain": [
       "['i', 'love', 'python']"
      ]
     },
     "execution_count": 27,
     "metadata": {},
     "output_type": "execute_result"
    }
   ],
   "source": [
    "text=\"i love python\"\n",
    "text.split()"
   ]
  },
  {
   "cell_type": "code",
   "execution_count": 28,
   "id": "16ee1b00-c341-46e7-9bf6-1b3e6b69b5e7",
   "metadata": {},
   "outputs": [
    {
     "name": "stdin",
     "output_type": "stream",
     "text": [
      "enter three words message welcome to germany\n"
     ]
    }
   ],
   "source": [
    "x=input(\"enter three words message\")\n",
    "\n"
   ]
  },
  {
   "cell_type": "code",
   "execution_count": 29,
   "id": "93349b56-2141-4de4-beaf-77a1c936cd16",
   "metadata": {},
   "outputs": [],
   "source": [
    "y=1"
   ]
  },
  {
   "cell_type": "code",
   "execution_count": 30,
   "id": "6d1f9bd0-169d-416f-bdb4-a6a3b1e8a44d",
   "metadata": {},
   "outputs": [],
   "source": [
    "y,w=2,3"
   ]
  },
  {
   "cell_type": "code",
   "execution_count": 32,
   "id": "76fc3d63-b4b7-4310-ba72-3126e02d3998",
   "metadata": {},
   "outputs": [],
   "source": [
    "word1,word2,word3=x.split()"
   ]
  },
  {
   "cell_type": "code",
   "execution_count": 33,
   "id": "7f5a45a8-fb42-4ba0-bc0e-6b52e19d6a59",
   "metadata": {},
   "outputs": [
    {
     "data": {
      "text/plain": [
       "'welcome'"
      ]
     },
     "execution_count": 33,
     "metadata": {},
     "output_type": "execute_result"
    }
   ],
   "source": [
    "word1"
   ]
  },
  {
   "cell_type": "code",
   "execution_count": 34,
   "id": "7395d0d9-df1d-46bf-bd29-40b294640851",
   "metadata": {},
   "outputs": [
    {
     "data": {
      "text/plain": [
       "'to'"
      ]
     },
     "execution_count": 34,
     "metadata": {},
     "output_type": "execute_result"
    }
   ],
   "source": [
    "word2\n"
   ]
  },
  {
   "cell_type": "code",
   "execution_count": 36,
   "id": "99c77d6d-e847-451d-a87b-16769858ab90",
   "metadata": {},
   "outputs": [
    {
     "data": {
      "text/plain": [
       "'germany'"
      ]
     },
     "execution_count": 36,
     "metadata": {},
     "output_type": "execute_result"
    }
   ],
   "source": [
    "word3"
   ]
  },
  {
   "cell_type": "code",
   "execution_count": 38,
   "id": "95d6ab65-c8da-4354-bcaf-5f13e86c919b",
   "metadata": {},
   "outputs": [
    {
     "name": "stdin",
     "output_type": "stream",
     "text": [
      "enter 1 number 2\n",
      "enter 2 number 3\n"
     ]
    },
    {
     "name": "stdout",
     "output_type": "stream",
     "text": [
      "5\n"
     ]
    }
   ],
   "source": [
    "a=int(input(\"enter 1 number\"))\n",
    "b=int(input(\"enter 2 number\"))\n",
    "print(a+b)"
   ]
  },
  {
   "cell_type": "code",
   "execution_count": 50,
   "id": "1f0f1d71-03ee-45f7-8d60-7dd93dad03b3",
   "metadata": {},
   "outputs": [
    {
     "name": "stdin",
     "output_type": "stream",
     "text": [
      "enter two numbers 2 3\n"
     ]
    },
    {
     "name": "stdout",
     "output_type": "stream",
     "text": [
      "5\n"
     ]
    }
   ],
   "source": [
    "a,b=input(\"enter two numbers\").split()\n",
    "c=int(a)+int(b)\n",
    "print(c)\n"
   ]
  },
  {
   "cell_type": "code",
   "execution_count": 55,
   "id": "4bf63493-0fec-4b1b-9425-00da53ee30ad",
   "metadata": {},
   "outputs": [
    {
     "name": "stdin",
     "output_type": "stream",
     "text": [
      "enter two number seperated by spaces 2 3\n"
     ]
    },
    {
     "name": "stdout",
     "output_type": "stream",
     "text": [
      "5\n"
     ]
    }
   ],
   "source": [
    "x=input(\"enter two number seperated by spaces\")\n",
    "sum=int(x.split()[0])+int(x.split()[1])\n",
    "print(sum)"
   ]
  },
  {
   "cell_type": "code",
   "execution_count": 61,
   "id": "525631ff-6d34-4737-ab82-217a09a79a23",
   "metadata": {},
   "outputs": [
    {
     "name": "stdin",
     "output_type": "stream",
     "text": [
      "enter roll no, name and percentage 23 45 565\n"
     ]
    },
    {
     "name": "stdout",
     "output_type": "stream",
     "text": [
      "23\n",
      "45\n",
      "565\n"
     ]
    }
   ],
   "source": [
    "s=input(\"enter roll no, name and percentage\")\n",
    "roll,name,percent=s.split()\n",
    "print(roll)\n",
    "print(name)\n",
    "print(percent)"
   ]
  },
  {
   "cell_type": "code",
   "execution_count": 68,
   "id": "a14ec230-2490-4928-938c-d8512a498192",
   "metadata": {},
   "outputs": [
    {
     "name": "stdout",
     "output_type": "stream",
     "text": [
      "['a', 'b', 'c', 'd e f']\n"
     ]
    }
   ],
   "source": [
    "s1=\"a b c d e f\"\n",
    "print(s1.split(' ',3)) #leng(s1)=6,split based on space but given max separator as 4-data will split in 4contaners   -----split takes n+1\n",
    "#split(separator,max separator)"
   ]
  },
  {
   "cell_type": "code",
   "execution_count": 70,
   "id": "9ac4a8b8-e6d7-46a4-b7c1-97eca19c8280",
   "metadata": {},
   "outputs": [
    {
     "data": {
      "text/plain": [
       "['HI', 'HI', 'HI@HI@HI']"
      ]
     },
     "execution_count": 70,
     "metadata": {},
     "output_type": "execute_result"
    }
   ],
   "source": [
    "s1=\"HI@HI@HI@HI@HI\"\n",
    "s1.split('@',2)        #split used when take input as 1 and divide it into multuiple                 real world ex-emials-if you need to separate a@"
   ]
  },
  {
   "cell_type": "code",
   "execution_count": 72,
   "id": "5de8b5ec-6a0e-4dbf-acba-79c787df6888",
   "metadata": {},
   "outputs": [
    {
     "name": "stdout",
     "output_type": "stream",
     "text": [
      "letter p\n",
      "letter w\n",
      "letter s\n",
      "letter k\n",
      "letter i\n",
      "letter l\n",
      "letter l\n",
      "letter s\n"
     ]
    }
   ],
   "source": [
    "#brake\n",
    "for letter in \"pwskills\":\n",
    "    print(\"letter\",letter)"
   ]
  },
  {
   "cell_type": "code",
   "execution_count": 73,
   "id": "f59fd3a0-6d34-440a-acf1-928c659f45e5",
   "metadata": {},
   "outputs": [
    {
     "name": "stdout",
     "output_type": "stream",
     "text": [
      "letter p\n",
      "letter w\n",
      "letter s\n",
      "letter k\n",
      "letter i\n"
     ]
    }
   ],
   "source": [
    "for letter in \"pwskills\":\n",
    "    if letter==\"l\":\n",
    "        break\n",
    "    print(\"letter\",letter)"
   ]
  },
  {
   "cell_type": "code",
   "execution_count": 74,
   "id": "5f1615f3-1130-4ed7-98f2-bdeb933bbe7f",
   "metadata": {},
   "outputs": [
    {
     "name": "stdout",
     "output_type": "stream",
     "text": [
      "0\n",
      "1\n",
      "2\n"
     ]
    }
   ],
   "source": [
    "for i in range(5):\n",
    "    if i==3:\n",
    "        break\n",
    "    print(i)"
   ]
  },
  {
   "cell_type": "code",
   "execution_count": 2,
   "id": "70d5b69e-6a9b-4b1f-be07-71e70abd989e",
   "metadata": {},
   "outputs": [
    {
     "data": {
      "text/plain": [
       "[0, 1, 2, 3, 4]"
      ]
     },
     "execution_count": 2,
     "metadata": {},
     "output_type": "execute_result"
    }
   ],
   "source": [
    "list(range(5))"
   ]
  },
  {
   "cell_type": "code",
   "execution_count": 3,
   "id": "281cb36c-8b20-447a-b2c4-92bc3adb627a",
   "metadata": {},
   "outputs": [
    {
     "name": "stdout",
     "output_type": "stream",
     "text": [
      "1\n",
      "2\n",
      "3\n",
      "4\n",
      "5\n"
     ]
    }
   ],
   "source": [
    "i=1\n",
    "while i<=10:\n",
    "    print(i)\n",
    "    if i>=5:\n",
    "        break\n",
    "    i=i+1\n",
    "    "
   ]
  },
  {
   "cell_type": "code",
   "execution_count": 6,
   "id": "4bacc8f7-79d6-40fa-931d-0b26ef84e1ee",
   "metadata": {},
   "outputs": [
    {
     "name": "stdout",
     "output_type": "stream",
     "text": [
      "current numeris 10\n",
      "current numeris 20\n",
      "current numeris 30\n",
      "current numeris 40\n"
     ]
    }
   ],
   "source": [
    "numbers=[10,20,30,40,120,230]\n",
    "\n",
    "for i in numbers:      #whereever num>100 break the loop\n",
    "    if i>100:\n",
    "        break\n",
    "    print('current numeris',i)"
   ]
  },
  {
   "cell_type": "code",
   "execution_count": 9,
   "id": "a0a8a35a-a590-424e-a2a2-c19e223bebd1",
   "metadata": {},
   "outputs": [
    {
     "name": "stdout",
     "output_type": "stream",
     "text": [
      "h\n",
      "e\n",
      "l\n",
      "l\n",
      "o\n",
      ",\n"
     ]
    }
   ],
   "source": [
    "s=\"hello, world\"\n",
    "for char in s:\n",
    "    print(char)\n",
    "    if char==',':\n",
    "        break"
   ]
  },
  {
   "cell_type": "code",
   "execution_count": 11,
   "id": "5e909e14-a418-4fa7-bbae-59acd3181fa3",
   "metadata": {},
   "outputs": [
    {
     "name": "stdout",
     "output_type": "stream",
     "text": [
      "p\n",
      "w\n",
      "s\n",
      "k\n",
      "l\n",
      "l\n",
      "s\n"
     ]
    }
   ],
   "source": [
    "#continue-just skip that particular iteration,it continue to next iteration\n",
    "for letter in \"pwskills\":\n",
    "    if letter==\"i\":\n",
    "        continue\n",
    "    print(letter)"
   ]
  },
  {
   "cell_type": "code",
   "execution_count": 13,
   "id": "c06a8b75-8b45-4ab8-a60f-00196577fe15",
   "metadata": {},
   "outputs": [
    {
     "name": "stdout",
     "output_type": "stream",
     "text": [
      "0\n",
      "1\n",
      "2\n",
      "4\n"
     ]
    }
   ],
   "source": [
    "for i in range(5):\n",
    "    if i==3:\n",
    "        continue\n",
    "    print(i)\n",
    "    #break---end the loop\n",
    "    #continue---skip the loop-continue next iteration"
   ]
  },
  {
   "cell_type": "code",
   "execution_count": 22,
   "id": "1b116844-0ca4-4a9e-8e88-75b5b0e6a63f",
   "metadata": {},
   "outputs": [
    {
     "name": "stdout",
     "output_type": "stream",
     "text": [
      "1\n",
      "3\n",
      "5\n",
      "7\n",
      "9\n"
     ]
    }
   ],
   "source": [
    "#write a program to print odd numbers from 1 to 10\n",
    "for i in range(1,11,1):\n",
    "    if i%2==0:\n",
    "        continue\n",
    "    print(i)\n",
    "        "
   ]
  },
  {
   "cell_type": "code",
   "execution_count": 20,
   "id": "3da55550-c974-4204-9616-acb505830fd2",
   "metadata": {},
   "outputs": [
    {
     "data": {
      "text/plain": [
       "[1, 2, 3, 4, 5, 6, 7, 8, 9, 10]"
      ]
     },
     "execution_count": 20,
     "metadata": {},
     "output_type": "execute_result"
    }
   ],
   "source": [
    "list(range(1,11,1))\n"
   ]
  },
  {
   "cell_type": "code",
   "execution_count": 2,
   "id": "caf71e22-91e2-4053-b279-617f86da51dc",
   "metadata": {},
   "outputs": [
    {
     "name": "stdout",
     "output_type": "stream",
     "text": [
      "1\n",
      "3\n",
      "5\n",
      "7\n",
      "9\n"
     ]
    }
   ],
   "source": [
    "i=1\n",
    "while i<=10:\n",
    "    if i%2==0:\n",
    "        i=i+1\n",
    "        continue\n",
    "    print(i)\n",
    "    i=i+1\n",
    "    #not came try once but dont run"
   ]
  },
  {
   "cell_type": "code",
   "execution_count": 6,
   "id": "6671be98-653e-4851-86a6-65fb8f3406be",
   "metadata": {},
   "outputs": [
    {
     "name": "stdout",
     "output_type": "stream",
     "text": [
      "1\n",
      "3\n",
      "5\n",
      "7\n",
      "9\n"
     ]
    }
   ],
   "source": [
    "i=1\n",
    "while i<=10:\n",
    "     print(i)\n",
    "     i=i+2\n",
    "   \n",
    "    #without using continue\n",
    "    "
   ]
  },
  {
   "cell_type": "code",
   "execution_count": 7,
   "id": "0ccf28ba-639a-4c44-9d8a-04420b775502",
   "metadata": {},
   "outputs": [
    {
     "name": "stdout",
     "output_type": "stream",
     "text": [
      "hello\n"
     ]
    }
   ],
   "source": [
    "#pass-do nothing -used  during the development state-you have just created it-but got error -\n",
    "n=10\n",
    "if n>10:\n",
    "    pass\n",
    "print('hello')"
   ]
  },
  {
   "cell_type": "code",
   "execution_count": 13,
   "id": "651ba5f4-cba0-4f6e-9372-ad19ca9a06b4",
   "metadata": {},
   "outputs": [],
   "source": [
    "if n>45:\n",
    "    pass"
   ]
  },
  {
   "cell_type": "code",
   "execution_count": 18,
   "id": "4a047e91-ba72-456c-813e-b3a43eb5ace5",
   "metadata": {},
   "outputs": [],
   "source": [
    "for i in range(5):\n",
    "    pass\n",
    "#instead o fthgrowing error-it will do nothing"
   ]
  },
  {
   "cell_type": "code",
   "execution_count": 15,
   "id": "d0699490-9ff6-4be2-b392-4f321d03f7fb",
   "metadata": {},
   "outputs": [
    {
     "name": "stdout",
     "output_type": "stream",
     "text": [
      "1\n",
      "2\n",
      "3\n",
      "4\n",
      "5\n",
      "6\n",
      "7\n",
      "8\n",
      "9\n",
      "10\n"
     ]
    }
   ],
   "source": [
    "#diff between pass and continue\n",
    "for i in range(1,11,1):\n",
    "    if i%2==0:\n",
    "        pass\n",
    "    print(i)"
   ]
  },
  {
   "cell_type": "code",
   "execution_count": 17,
   "id": "d078d780-8293-4ca8-bbc3-5550403a7944",
   "metadata": {},
   "outputs": [
    {
     "name": "stdout",
     "output_type": "stream",
     "text": [
      "1\n",
      "3\n",
      "5\n",
      "7\n",
      "9\n"
     ]
    }
   ],
   "source": [
    "for i in range(1,11,1):\n",
    "    if i%2==0:\n",
    "        continue  #it skips that particular iteration but continue to next iteration\n",
    "    print(i)"
   ]
  },
  {
   "cell_type": "code",
   "execution_count": 19,
   "id": "778260f2-001f-41b9-b29b-30ba09786cbb",
   "metadata": {},
   "outputs": [
    {
     "name": "stdout",
     "output_type": "stream",
     "text": [
      "30\n"
     ]
    }
   ],
   "source": [
    "#functions-very imp\n",
    "'''2 different ways of writing coding-1.functions- it performing certain task-make use of fun in other programs-to do a specific code\n",
    "                                      2.oops-used for build application-reusability of code'''\n",
    "# reusability code\n",
    "\n",
    "a=10\n",
    "b=20\n",
    "print(a+b)\n",
    "\n",
    "\n",
    "\n",
    "\n",
    "\n"
   ]
  },
  {
   "cell_type": "code",
   "execution_count": 20,
   "id": "64ad37e2-9b19-4ad4-ba3f-97b1642e3d06",
   "metadata": {},
   "outputs": [
    {
     "name": "stdout",
     "output_type": "stream",
     "text": [
      "114\n"
     ]
    }
   ],
   "source": [
    "#you want to do again -you need to ode again\n",
    "a=80\n",
    "b=34\n",
    "print(a+b)\n"
   ]
  },
  {
   "cell_type": "code",
   "execution_count": 21,
   "id": "a187c9eb-4056-4565-90a6-ed416bd85347",
   "metadata": {},
   "outputs": [
    {
     "name": "stdout",
     "output_type": "stream",
     "text": [
      "47\n"
     ]
    }
   ],
   "source": [
    "a=45\n",
    "b=2\n",
    "print(a+b)"
   ]
  },
  {
   "cell_type": "code",
   "execution_count": null,
   "id": "45a13558-13de-4ed5-a192-22b85ae6841d",
   "metadata": {},
   "outputs": [],
   "source": [
    "#what if i want to code 1000 times-thats where function topic will come\n",
    "def add_nums(a,b):\n",
    "    return a+b\n",
    "    "
   ]
  },
  {
   "cell_type": "code",
   "execution_count": null,
   "id": "a1e82d0d-3b5d-4b50-b16a-0a850bd6bd19",
   "metadata": {},
   "outputs": [],
   "source": [
    "def functionname(arguements):\n",
    "    #function body code\n",
    "    return fun\n",
    "-------------------------\n",
    "call afunction\n",
    "functionname()"
   ]
  },
  {
   "cell_type": "code",
   "execution_count": 23,
   "id": "5f59787d-b4e2-4b38-9ae9-b41b18d7858f",
   "metadata": {},
   "outputs": [],
   "source": [
    "def greet():\n",
    "    print(\"hello world\")\n",
    "#function created"
   ]
  },
  {
   "cell_type": "code",
   "execution_count": 24,
   "id": "89415bae-64cc-498b-861b-91e9bdcec0a9",
   "metadata": {},
   "outputs": [
    {
     "name": "stdout",
     "output_type": "stream",
     "text": [
      "hello world\n"
     ]
    }
   ],
   "source": [
    "#if you want to use taht function you need to call the function using function name\n",
    "greet()"
   ]
  },
  {
   "cell_type": "code",
   "execution_count": 25,
   "id": "f0a199aa-bdfd-41a2-9c5e-96a01c9b47d3",
   "metadata": {},
   "outputs": [],
   "source": [
    "def addnum():\n",
    "    a=10\n",
    "    b=233\n",
    "    c=a+b\n",
    "    print(c)"
   ]
  },
  {
   "cell_type": "code",
   "execution_count": 26,
   "id": "c278612c-8d3e-434b-ac2e-76d5324a8297",
   "metadata": {},
   "outputs": [
    {
     "name": "stdout",
     "output_type": "stream",
     "text": [
      "243\n"
     ]
    }
   ],
   "source": [
    "addnum()"
   ]
  },
  {
   "cell_type": "code",
   "execution_count": 39,
   "id": "bc6f0737-ad15-4def-8439-2fa578b499e6",
   "metadata": {},
   "outputs": [],
   "source": [
    "#want to do customization-with taking arguements\n",
    "def addnum(a,b): #arguements will receive functions\n",
    "    c=a+b\n",
    "    print(c)"
   ]
  },
  {
   "cell_type": "code",
   "execution_count": 32,
   "id": "3bb9f1ab-d167-494b-9618-0acc8cb3a07f",
   "metadata": {},
   "outputs": [
    {
     "name": "stdout",
     "output_type": "stream",
     "text": [
      "5\n"
     ]
    }
   ],
   "source": [
    "addnum(2,3)"
   ]
  },
  {
   "cell_type": "code",
   "execution_count": 33,
   "id": "6741a4dd-cd57-4fcc-84d9-4a323d0c1d6b",
   "metadata": {},
   "outputs": [
    {
     "name": "stdout",
     "output_type": "stream",
     "text": [
      "500\n"
     ]
    }
   ],
   "source": [
    "addnum(200,300)"
   ]
  },
  {
   "cell_type": "code",
   "execution_count": 41,
   "id": "27dd8378-dd79-476d-ad9f-aadad004f68d",
   "metadata": {},
   "outputs": [],
   "source": [
    "#without taking any arguements\n",
    "def addtwonumbers():\n",
    "    a=input(\"enter 1 number\")\n",
    "    b=input(\"enter 2 number\")\n",
    "    c=int(a)+int(b)\n",
    "    print(c)"
   ]
  },
  {
   "cell_type": "code",
   "execution_count": 37,
   "id": "ca3d88e0-1902-4054-abf2-08a2ac1c6dc0",
   "metadata": {},
   "outputs": [
    {
     "name": "stdin",
     "output_type": "stream",
     "text": [
      "enter 1 number 30\n",
      "enter 2 number 20\n"
     ]
    },
    {
     "name": "stdout",
     "output_type": "stream",
     "text": [
      "50\n"
     ]
    }
   ],
   "source": [
    "addtwonumbers()"
   ]
  },
  {
   "cell_type": "code",
   "execution_count": 38,
   "id": "8d282b26-a788-435d-b29a-8856421d122f",
   "metadata": {},
   "outputs": [
    {
     "name": "stdin",
     "output_type": "stream",
     "text": [
      "enter 1 number 4\n",
      "enter 2 number 9\n"
     ]
    },
    {
     "name": "stdout",
     "output_type": "stream",
     "text": [
      "13\n"
     ]
    }
   ],
   "source": [
    "addtwonumbers()"
   ]
  },
  {
   "cell_type": "code",
   "execution_count": 47,
   "id": "aa202ee5-bc92-4f13-aab6-215d6fc489f3",
   "metadata": {},
   "outputs": [],
   "source": [
    "#using arguemnets\n",
    "def multtwonumbers(x,y):\n",
    "    a=x\n",
    "    b=y\n",
    "    c=a*b\n",
    "    print(c)"
   ]
  },
  {
   "cell_type": "code",
   "execution_count": 48,
   "id": "4836bced-a54c-4f5c-98cb-fce50df243b9",
   "metadata": {},
   "outputs": [
    {
     "name": "stdout",
     "output_type": "stream",
     "text": [
      "160\n"
     ]
    }
   ],
   "source": [
    "multtwonumbers(4,40)"
   ]
  },
  {
   "cell_type": "code",
   "execution_count": 50,
   "id": "b0395595-4171-404a-9dbd-19a9c8b68b81",
   "metadata": {},
   "outputs": [],
   "source": [
    "#using string\n",
    "def introduction(name):\n",
    "      print(\"hi\",name)"
   ]
  },
  {
   "cell_type": "code",
   "execution_count": 53,
   "id": "40b554cf-768e-4f15-af54-54978ebb1b61",
   "metadata": {},
   "outputs": [
    {
     "name": "stdout",
     "output_type": "stream",
     "text": [
      "hi vamshi\n"
     ]
    }
   ],
   "source": [
    "introduction(\"vamshi\")"
   ]
  },
  {
   "cell_type": "code",
   "execution_count": 58,
   "id": "a3abcc15-f103-4773-8378-b4622ab3a565",
   "metadata": {},
   "outputs": [],
   "source": [
    "def introduction(firstname,lastname):\n",
    "      a=firstname+lastname\n",
    "      \n",
    "      print(\"hi\", a)"
   ]
  },
  {
   "cell_type": "code",
   "execution_count": 66,
   "id": "ef82f8fd-e5ef-43fd-aa9d-3db95eb47941",
   "metadata": {},
   "outputs": [
    {
     "name": "stdout",
     "output_type": "stream",
     "text": [
      "hi bodige vamshi krishna\n"
     ]
    }
   ],
   "source": [
    "introduction(\"bodige \" ,\"vamshi krishna\")"
   ]
  },
  {
   "cell_type": "code",
   "execution_count": 70,
   "id": "cf4dbc45-15a3-4ef1-8931-3e482fc2ab13",
   "metadata": {},
   "outputs": [],
   "source": [
    "#write fun which will return absolute value -21 - want +21\n",
    "def absolutevalue(num):\n",
    "    if num<0:\n",
    "        print(-num)\n",
    "    else:\n",
    "        print(\"positive\")\n"
   ]
  },
  {
   "cell_type": "code",
   "execution_count": 72,
   "id": "82f7742d-5cda-403b-b8e0-e5300c8ea956",
   "metadata": {},
   "outputs": [
    {
     "name": "stdout",
     "output_type": "stream",
     "text": [
      "12\n"
     ]
    }
   ],
   "source": [
    "absolutevalue(-12)"
   ]
  },
  {
   "cell_type": "code",
   "execution_count": 73,
   "id": "10a459b9-8c2f-419a-8a2c-34c8fd78302c",
   "metadata": {},
   "outputs": [],
   "source": [
    "#learn about return-it should return something\n",
    "def fullname(a,b):\n",
    "    c=a+b"
   ]
  },
  {
   "cell_type": "code",
   "execution_count": 14,
   "id": "5391d145-acb9-4fd3-863b-2cef2f2f9ca8",
   "metadata": {},
   "outputs": [
    {
     "data": {
      "text/plain": [
       "'pwskills'"
      ]
     },
     "execution_count": 14,
     "metadata": {},
     "output_type": "execute_result"
    }
   ],
   "source": [
    "fullname(\"pw\",\"skills\")#after executing not getting anything"
   ]
  },
  {
   "cell_type": "code",
   "execution_count": 15,
   "id": "8575743d-4159-4597-8140-05cc7d5df861",
   "metadata": {},
   "outputs": [],
   "source": [
    "def fullname(a,b):\n",
    "    c=a+b\n",
    "    print(c)"
   ]
  },
  {
   "cell_type": "code",
   "execution_count": 22,
   "id": "0f528ba8-fbd5-4b5b-adcc-5c9312fddfe7",
   "metadata": {},
   "outputs": [
    {
     "name": "stdout",
     "output_type": "stream",
     "text": [
      "pwskills\n"
     ]
    }
   ],
   "source": [
    "fullname(\"pw\",\"skills\")#"
   ]
  },
  {
   "cell_type": "code",
   "execution_count": 1,
   "id": "d9e58a9d-3281-4494-b393-087ff066f777",
   "metadata": {},
   "outputs": [],
   "source": [
    "#function -set of instructions in order to do specific  task\n",
    "#return will return a expression or value from a function \n",
    "def fullname(a,b):\n",
    "    c=a+b\n",
    "    return (c)"
   ]
  },
  {
   "cell_type": "code",
   "execution_count": 2,
   "id": "5deeced9-1707-47ef-9655-d8eb847f4e7a",
   "metadata": {},
   "outputs": [],
   "source": [
    "x=fullname(\"pw\",\"skills\")   #now it is return and storing it,make it use for other staements\\\n",
    "                           #it will not work with perint statement"
   ]
  },
  {
   "cell_type": "code",
   "execution_count": 3,
   "id": "6d2a3c20-5e6e-4afd-9a70-15654734f0f3",
   "metadata": {},
   "outputs": [],
   "source": [
    "x=fullname(\"pw\",\"skills\")"
   ]
  },
  {
   "cell_type": "code",
   "execution_count": 4,
   "id": "4154d3e0-26ba-45f8-b89c-dde86f2d84bc",
   "metadata": {},
   "outputs": [
    {
     "data": {
      "text/plain": [
       "'pwskills'"
      ]
     },
     "execution_count": 4,
     "metadata": {},
     "output_type": "execute_result"
    }
   ],
   "source": [
    "x"
   ]
  },
  {
   "cell_type": "code",
   "execution_count": 16,
   "id": "b3c52799-61ab-40d9-84e5-3445b8ace930",
   "metadata": {},
   "outputs": [
    {
     "data": {
      "text/plain": [
       "str"
      ]
     },
     "execution_count": 16,
     "metadata": {},
     "output_type": "execute_result"
    }
   ],
   "source": [
    "type(x)"
   ]
  },
  {
   "cell_type": "code",
   "execution_count": 5,
   "id": "6432ed1a-6f30-470b-9082-e0e922a11c9e",
   "metadata": {},
   "outputs": [],
   "source": [
    "def fullname(a,b):\n",
    "    c=a+b\n",
    "    print(c)"
   ]
  },
  {
   "cell_type": "code",
   "execution_count": 6,
   "id": "5b8ad5ec-b24c-4007-a79c-5741a357a793",
   "metadata": {},
   "outputs": [
    {
     "name": "stdout",
     "output_type": "stream",
     "text": [
      "pwskills\n"
     ]
    }
   ],
   "source": [
    "y=fullname(\"pw\",\"skills\")"
   ]
  },
  {
   "cell_type": "code",
   "execution_count": 9,
   "id": "667d9306-b773-493d-858a-237a0b247d71",
   "metadata": {},
   "outputs": [],
   "source": [
    "y #not returning anything-because print we used not return"
   ]
  },
  {
   "cell_type": "code",
   "execution_count": 10,
   "id": "bcb66989-78f7-467a-9417-ddf029c32947",
   "metadata": {},
   "outputs": [
    {
     "name": "stdout",
     "output_type": "stream",
     "text": [
      "pwskills\n"
     ]
    }
   ],
   "source": [
    "fullname(\"pw\",\"skills\")#it is not storing,it cant use in next"
   ]
  },
  {
   "cell_type": "code",
   "execution_count": 11,
   "id": "5f108c5d-704f-4625-987d-2b59baddab75",
   "metadata": {},
   "outputs": [],
   "source": [
    "def fullname(a,b):\n",
    "    c=a+b\n",
    "    return #return nothing"
   ]
  },
  {
   "cell_type": "code",
   "execution_count": 12,
   "id": "27bb1891-25b9-4cc5-a25b-7a0369233e6f",
   "metadata": {},
   "outputs": [],
   "source": [
    "z=fullname(\"pw\",\"skills\")"
   ]
  },
  {
   "cell_type": "code",
   "execution_count": 14,
   "id": "fdf51ecf-bf4d-4b76-a562-e5a9caf67487",
   "metadata": {},
   "outputs": [],
   "source": [
    "z #return nothing-because return statement empty"
   ]
  },
  {
   "cell_type": "code",
   "execution_count": 15,
   "id": "55d747e8-08cc-4a62-ae70-b0cf0b936d5b",
   "metadata": {},
   "outputs": [
    {
     "data": {
      "text/plain": [
       "NoneType"
      ]
     },
     "execution_count": 15,
     "metadata": {},
     "output_type": "execute_result"
    }
   ],
   "source": [
    "type(z)"
   ]
  },
  {
   "cell_type": "code",
   "execution_count": 70,
   "id": "d818c71c-1d94-4a92-bab0-249409a6dccd",
   "metadata": {},
   "outputs": [],
   "source": [
    "#simple calculator\n",
    "def calculator(num1,num2): #num1 & num2 are arguements which will take input\n",
    "        add=num1+num2\n",
    "        mult=num1*num2\n",
    "        divi=num1%num2\n",
    "        sub=num1-num2\n",
    "        return (add,mult,divi,sub)"
   ]
  },
  {
   "cell_type": "code",
   "execution_count": 23,
   "id": "dfe723c4-45e3-4cda-bb86-91cb69c3de33",
   "metadata": {},
   "outputs": [],
   "source": [
    "x=calculator(5,9)"
   ]
  },
  {
   "cell_type": "code",
   "execution_count": 24,
   "id": "879b6b8f-3745-4003-9038-d477a8d17deb",
   "metadata": {},
   "outputs": [
    {
     "data": {
      "text/plain": [
       "(14, 45, 5, -4)"
      ]
     },
     "execution_count": 24,
     "metadata": {},
     "output_type": "execute_result"
    }
   ],
   "source": [
    "x"
   ]
  },
  {
   "cell_type": "code",
   "execution_count": 32,
   "id": "812143a9-5743-44f3-b823-51a183ee631f",
   "metadata": {},
   "outputs": [
    {
     "data": {
      "text/plain": [
       "tuple"
      ]
     },
     "execution_count": 32,
     "metadata": {},
     "output_type": "execute_result"
    }
   ],
   "source": [
    "type(x)"
   ]
  },
  {
   "cell_type": "code",
   "execution_count": 29,
   "id": "99c90a08-ae98-43fb-abd9-027625c3a67c",
   "metadata": {},
   "outputs": [],
   "source": [
    "def calculator():\n",
    "        a=int(input(\"enter num1\"))\n",
    "        b=int(input(\"enter num1\"))\n",
    "\n",
    "        add=a+b\n",
    "        mult=a*b\n",
    "        divi=a%b\n",
    "        sub=a-b\n",
    "        return (add,mult,divi,sub)"
   ]
  },
  {
   "cell_type": "code",
   "execution_count": 31,
   "id": "4e0aad4f-791a-40a8-98ef-9ffc9b674ff9",
   "metadata": {},
   "outputs": [
    {
     "name": "stdin",
     "output_type": "stream",
     "text": [
      "enter num1 4\n",
      "enter num1 4\n"
     ]
    },
    {
     "data": {
      "text/plain": [
       "(8, 16, 0, 0)"
      ]
     },
     "execution_count": 31,
     "metadata": {},
     "output_type": "execute_result"
    }
   ],
   "source": [
    "calculator()"
   ]
  },
  {
   "cell_type": "code",
   "execution_count": 40,
   "id": "29eb1ed4-174a-4f1d-8455-5af501867879",
   "metadata": {},
   "outputs": [],
   "source": [
    "def cal(a,b):\n",
    "        oper = input(\"enter a operator\")\n",
    "        if (oper==\"add\"):\n",
    "            return a+b\n",
    "        elif(oper==\"sub\"):\n",
    "            return a-b\n",
    "        elif(oper==\"mul\"):\n",
    "            return a*b\n",
    "        else:\n",
    "            return a/b"
   ]
  },
  {
   "cell_type": "code",
   "execution_count": 41,
   "id": "c78ec8b2-3e9f-4ad1-9fac-b3336cae27a5",
   "metadata": {},
   "outputs": [
    {
     "name": "stdin",
     "output_type": "stream",
     "text": [
      "enter a operator add\n"
     ]
    },
    {
     "data": {
      "text/plain": [
       "8"
      ]
     },
     "execution_count": 41,
     "metadata": {},
     "output_type": "execute_result"
    }
   ],
   "source": [
    "cal(4,4)"
   ]
  },
  {
   "cell_type": "code",
   "execution_count": 68,
   "id": "bcfa56fc-5dbf-4364-863d-b404bec08b41",
   "metadata": {},
   "outputs": [],
   "source": [
    "#function to find area of circle\n",
    "def areaofcircle():\n",
    "    r=int(input(\"enter the radius\"))\n",
    "\n",
    "    area = 3.14*r*r\n",
    "    return (area)"
   ]
  },
  {
   "cell_type": "code",
   "execution_count": 69,
   "id": "1726175c-9e8b-43a1-a58d-18bd7f6992f4",
   "metadata": {},
   "outputs": [
    {
     "name": "stdin",
     "output_type": "stream",
     "text": [
      "enter the radius 3\n"
     ]
    },
    {
     "data": {
      "text/plain": [
       "28.259999999999998"
      ]
     },
     "execution_count": 69,
     "metadata": {},
     "output_type": "execute_result"
    }
   ],
   "source": [
    "areaofcircle()"
   ]
  },
  {
   "cell_type": "code",
   "execution_count": 59,
   "id": "ab8c5c11-ce56-451d-b80f-07bb61985039",
   "metadata": {},
   "outputs": [],
   "source": [
    "#area of rectangle-l*b*h\n",
    "def areaofrectangle():\n",
    "    l=int(input(\"enter the length\"))\n",
    "    b=int(input(\"enter the breadth\"))\n",
    "\n",
    "    h=int(input(\"enter the height\"))\n",
    "\n",
    "\n",
    "    area = l*b*h\n",
    "    return (area)"
   ]
  },
  {
   "cell_type": "code",
   "execution_count": 60,
   "id": "3d85be06-0503-4eb0-939d-7ce365912bd7",
   "metadata": {},
   "outputs": [
    {
     "name": "stdin",
     "output_type": "stream",
     "text": [
      "enter the length 3\n",
      "enter the breadth 4\n",
      "enter the height 5\n"
     ]
    },
    {
     "data": {
      "text/plain": [
       "60"
      ]
     },
     "execution_count": 60,
     "metadata": {},
     "output_type": "execute_result"
    }
   ],
   "source": [
    "areaofrectangle()"
   ]
  },
  {
   "cell_type": "code",
   "execution_count": 61,
   "id": "43b4a8d9-5e00-45f5-bd72-803c7499a0b1",
   "metadata": {},
   "outputs": [],
   "source": [
    "def areaoftriangle():\n",
    "    \n",
    "    b=int(input(\"enter the base\"))\n",
    "\n",
    "    h=int(input(\"enter the height\"))\n",
    "\n",
    "\n",
    "    area = 1/2*b*h\n",
    "    return (area)"
   ]
  },
  {
   "cell_type": "code",
   "execution_count": 63,
   "id": "6da623f7-2c62-4d1b-9faf-9052549e1f39",
   "metadata": {},
   "outputs": [
    {
     "name": "stdin",
     "output_type": "stream",
     "text": [
      "enter the base 2\n",
      "enter the height 3\n"
     ]
    },
    {
     "data": {
      "text/plain": [
       "3.0"
      ]
     },
     "execution_count": 63,
     "metadata": {},
     "output_type": "execute_result"
    }
   ],
   "source": [
    "areaoftriangle()"
   ]
  },
  {
   "cell_type": "code",
   "execution_count": 72,
   "id": "2f94346a-1b7b-4e7a-b0f5-2ed806b2d4e7",
   "metadata": {},
   "outputs": [],
   "source": [
    "#accept integer as input and print its squares as output\n",
    "def sqr():\n",
    "    a=int(input(\"enter a num\"))\n",
    "    b=a*a\n",
    "    return b"
   ]
  },
  {
   "cell_type": "code",
   "execution_count": 73,
   "id": "3fef9430-3171-4420-b14e-1964aada3511",
   "metadata": {},
   "outputs": [
    {
     "name": "stdin",
     "output_type": "stream",
     "text": [
      "enter a num 2\n"
     ]
    },
    {
     "data": {
      "text/plain": [
       "4"
      ]
     },
     "execution_count": 73,
     "metadata": {},
     "output_type": "execute_result"
    }
   ],
   "source": [
    "sqr()"
   ]
  },
  {
   "cell_type": "code",
   "execution_count": 102,
   "id": "717bd4fc-2596-4d5a-8640-04af7e4c90e0",
   "metadata": {},
   "outputs": [
    {
     "name": "stdin",
     "output_type": "stream",
     "text": [
      "enter a num 2\n"
     ]
    },
    {
     "name": "stdout",
     "output_type": "stream",
     "text": [
      "4\n"
     ]
    }
   ],
   "source": [
    " a=int(input(\"enter a num\"))\n",
    "print(a*a)"
   ]
  },
  {
   "cell_type": "code",
   "execution_count": 74,
   "id": "10bc14da-d808-4ae7-9b9d-a45d55fb98dc",
   "metadata": {},
   "outputs": [],
   "source": [
    "#accept two integers as input and print their sum as output\n",
    "def sum(a,b):\n",
    "    c=a+b\n",
    "    return c"
   ]
  },
  {
   "cell_type": "code",
   "execution_count": 75,
   "id": "73c01eb0-0764-4b78-a977-6e0628c9e572",
   "metadata": {},
   "outputs": [
    {
     "data": {
      "text/plain": [
       "7"
      ]
     },
     "execution_count": 75,
     "metadata": {},
     "output_type": "execute_result"
    }
   ],
   "source": [
    "sum(3,4)"
   ]
  },
  {
   "cell_type": "code",
   "execution_count": 79,
   "id": "84b58786-3c42-4664-9386-c14f11bebbce",
   "metadata": {},
   "outputs": [],
   "source": [
    "#accept two words as input and print two words after adding a space between them\n",
    "def a():\n",
    "    x=str(input(\"enter a word\"))\n",
    "    y=str(input(\"enter a 2 word\"))\n",
    "    z=x+' '+y\n",
    "    return z\n"
   ]
  },
  {
   "cell_type": "code",
   "execution_count": 80,
   "id": "836e76fc-ec11-4599-9150-a18f062495d5",
   "metadata": {},
   "outputs": [
    {
     "name": "stdin",
     "output_type": "stream",
     "text": [
      "enter a word vamshi\n",
      "enter a 2 word krishna\n"
     ]
    },
    {
     "data": {
      "text/plain": [
       "'vamshi krishna'"
      ]
     },
     "execution_count": 80,
     "metadata": {},
     "output_type": "execute_result"
    }
   ],
   "source": [
    "a()"
   ]
  },
  {
   "cell_type": "code",
   "execution_count": 85,
   "id": "6bf42712-1b35-4e80-83df-2cb25ad3dbc0",
   "metadata": {},
   "outputs": [],
   "source": [
    "#print pattern\n",
    "'''*\n",
    "**\n",
    "***'''\n",
    "def pattern():\n",
    "    for i in range(1,5):\n",
    "        for j in range(1,5):\n",
    "            print()\n",
    "        print()"
   ]
  },
  {
   "cell_type": "code",
   "execution_count": 86,
   "id": "79eb05c3-06dd-4915-9ef6-63b01f223b51",
   "metadata": {},
   "outputs": [
    {
     "name": "stdout",
     "output_type": "stream",
     "text": [
      "*\n",
      "*\n",
      "*\n",
      "*\n",
      "\n",
      "*\n",
      "*\n",
      "*\n",
      "*\n",
      "\n",
      "*\n",
      "*\n",
      "*\n",
      "*\n",
      "\n",
      "*\n",
      "*\n",
      "*\n",
      "*\n",
      "\n"
     ]
    }
   ],
   "source": [
    "pattern()"
   ]
  },
  {
   "cell_type": "code",
   "execution_count": 95,
   "id": "56782841-c07c-4dd8-9154-2d362f5fd5d8",
   "metadata": {},
   "outputs": [],
   "source": [
    "#print first 5 positive integers in ascending order with one number in each line\n",
    "def asc():\n",
    "    for i in range(6):\n",
    "         print(i)"
   ]
  },
  {
   "cell_type": "code",
   "execution_count": 96,
   "id": "093fbd68-53af-4f3b-a04d-15b18525a6e2",
   "metadata": {},
   "outputs": [
    {
     "name": "stdout",
     "output_type": "stream",
     "text": [
      "0\n",
      "1\n",
      "2\n",
      "3\n",
      "4\n",
      "5\n"
     ]
    }
   ],
   "source": [
    "asc()"
   ]
  },
  {
   "cell_type": "code",
   "execution_count": 100,
   "id": "42abd9d0-f488-4b15-8179-5c90c6474897",
   "metadata": {},
   "outputs": [
    {
     "name": "stdout",
     "output_type": "stream",
     "text": [
      "0\n",
      "1\n",
      "2\n",
      "3\n",
      "4\n",
      "5\n"
     ]
    }
   ],
   "source": [
    "for i in range(6):\n",
    "    print(i)"
   ]
  },
  {
   "cell_type": "code",
   "execution_count": 110,
   "id": "211b9c5d-f752-4c06-8deb-8bfef392e2c5",
   "metadata": {},
   "outputs": [],
   "source": [
    "#create a python program that includes a user-defined function(we are creating so called) called print_even_number().\n",
    "#the function should promt the user to set a range limit before printing all evn numbers upto that limit\n",
    "def ran(a,b):\n",
    "    for i in range(a,b+1):\n",
    "        if i%2==0:\n",
    "            print(i)"
   ]
  },
  {
   "cell_type": "code",
   "execution_count": 111,
   "id": "d07f07b7-5eca-414a-b967-78023823b084",
   "metadata": {},
   "outputs": [
    {
     "name": "stdout",
     "output_type": "stream",
     "text": [
      "2\n",
      "4\n",
      "6\n",
      "8\n",
      "10\n"
     ]
    }
   ],
   "source": [
    "ran(2,10)"
   ]
  },
  {
   "cell_type": "code",
   "execution_count": 114,
   "id": "71da10b7-d0d3-469b-9a12-c14abcacfa91",
   "metadata": {},
   "outputs": [],
   "source": [
    "def print_even_number():\n",
    "    limit1=int(input(\"enter the first limit of even number\"))\n",
    "    limit2=int(input(\"enter the second limit of even number\"))\n",
    "    for i in range(limit1,limit2+1):\n",
    "        if i%2==0:\n",
    "            print(i,end=' ')"
   ]
  },
  {
   "cell_type": "code",
   "execution_count": 115,
   "id": "3c2346e1-662d-43e5-a04a-5e92987cdf60",
   "metadata": {},
   "outputs": [
    {
     "name": "stdin",
     "output_type": "stream",
     "text": [
      "enter the first limit of even number 2\n",
      "enter the second limit of even number 20\n"
     ]
    },
    {
     "name": "stdout",
     "output_type": "stream",
     "text": [
      "2 4 6 8 10 12 14 16 18 20 "
     ]
    }
   ],
   "source": [
    "print_even_number()"
   ]
  },
  {
   "cell_type": "code",
   "execution_count": 124,
   "id": "04234092-baa1-4010-ac6f-f9ee3b4e75fb",
   "metadata": {},
   "outputs": [
    {
     "name": "stdin",
     "output_type": "stream",
     "text": [
      "enter 2 numbers which you want the even number 2 10\n"
     ]
    },
    {
     "name": "stdout",
     "output_type": "stream",
     "text": [
      "2\n",
      "4\n",
      "6\n",
      "8\n"
     ]
    }
   ],
   "source": [
    "#using split\n",
    "\n",
    "def print_even_numbers():\n",
    "    a,b=input(\"enter 2 numbers which you want the even number\").split()  #split wherever you have space it will split\n",
    "    for i in range(int(a),int(b)):\n",
    "        if i%2==0:\n",
    "            print(i)\n",
    "print_even_numbers()"
   ]
  },
  {
   "cell_type": "code",
   "execution_count": 139,
   "id": "c0af694a-ea8e-4835-9a55-238af278c076",
   "metadata": {},
   "outputs": [
    {
     "name": "stdin",
     "output_type": "stream",
     "text": [
      "enter a side 1 of triangle 3\n",
      "enter a side 2 of triangle 4\n",
      "enter a side 3 of triangle 5\n"
     ]
    },
    {
     "name": "stdout",
     "output_type": "stream",
     "text": [
      "yes\n"
     ]
    }
   ],
   "source": [
    "'''accept 3 positive integers as input and check if they form the sides of a right angle triangle.print yes if they form one, \n",
    "and no if they do not. the input will ahve three lines,with one integer on each line.the output should be a single line containing one of these two strings: YES or NO'''\n",
    "\n",
    "a=int(input(\"enter a side 1 of triangle\"))\n",
    "b=int(input(\"enter a side 2 of triangle\"))\n",
    "c=int(input(\"enter a side 3 of triangle\"))\n",
    "\n",
    "hyp=a\n",
    "side1=b\n",
    "side2=c\n",
    "if b>hyp:\n",
    "    hyp,side1=b,hyp\n",
    "if c>hyp:\n",
    "    hyp,side1,side2=c,hyp,side1\n",
    "elif c>side1:\n",
    "     b,c=side2,side1\n",
    "if hyp*hyp==side1*side1+side2*side2:\n",
    "    print(\"yes\")\n",
    "else:\n",
    "    print(\"no\")"
   ]
  },
  {
   "cell_type": "code",
   "execution_count": 144,
   "id": "34b00546-5a2b-41e4-a151-8ce233df295d",
   "metadata": {},
   "outputs": [
    {
     "name": "stdin",
     "output_type": "stream",
     "text": [
      "enter the first side of triangle:  5\n",
      "enter the second side of triangle:  5\n",
      "enter the third side of triangle:  5\n"
     ]
    },
    {
     "name": "stdout",
     "output_type": "stream",
     "text": [
      "it is not a right angled triangle\n"
     ]
    }
   ],
   "source": [
    "def checkRightTriangle(a,b,c):\n",
    "    if a**2==b**2+c**2 or b**2==c**2+a**2 or c**2==a**2+b**2:\n",
    "        print(\"it is a right angled triangle\")\n",
    "    else:\n",
    "        print(\"it is not a right angled triangle\")\n",
    "a=int(input(\"enter the first side of triangle: \"))\n",
    "b=int(input(\"enter the second side of triangle: \"))\n",
    "c=int(input(\"enter the third side of triangle: \"))\n",
    "checkRightTriangle(a,b,c)"
   ]
  },
  {
   "cell_type": "code",
   "execution_count": 146,
   "id": "47a29f97-0a79-4a94-8d0a-fd3c2968ac5d",
   "metadata": {},
   "outputs": [],
   "source": [
    "def checkRightTriangle(a,b,c):\n",
    "    if a**2==b**2+c**2 or b**2==c**2+a**2 or c**2==a**2+b**2:\n",
    "        print(\"it is a right angled triangle\")\n",
    "    else:\n",
    "        print(\"it is not a right angled triangle\")\n"
   ]
  },
  {
   "cell_type": "code",
   "execution_count": 148,
   "id": "57611501-56eb-4c64-966f-8bd7508ff0b3",
   "metadata": {},
   "outputs": [
    {
     "name": "stdout",
     "output_type": "stream",
     "text": [
      "it is a right angled triangle\n"
     ]
    }
   ],
   "source": [
    "checkRightTriangle(3,4,5)"
   ]
  },
  {
   "cell_type": "code",
   "execution_count": 149,
   "id": "282fa9cf-b50e-468c-bcad-c8fab47766e8",
   "metadata": {},
   "outputs": [
    {
     "name": "stdout",
     "output_type": "stream",
     "text": [
      "it is not a right angled triangle\n"
     ]
    }
   ],
   "source": [
    "checkRightTriangle(5,5,5)"
   ]
  },
  {
   "cell_type": "markdown",
   "id": "090c204b-d71a-49e9-ac4e-2c40964b19ad",
   "metadata": {},
   "source": [
    "17.Accept a string as input. your task is to determine if the input strijng is a valid password or not. for a string to be a valid password, it must satisfy all the conditions given below:\n",
    "    1.it should have atleast 8 and at most 32 charcters\n",
    "    2.it should start with an uppercase or lowercase letter\n",
    "    3.it should not have any of these characters: /|='\"\n",
    "    4.it should not have spaces\n",
    "    it could have any character that is not mentioned in the list of characters to be avoided(points 3 and 4 .output true if string forms a valid password and false otherwise"
   ]
  },
  {
   "cell_type": "code",
   "execution_count": 156,
   "id": "046c864c-7f14-4ae3-a173-fb7d2e1ee462",
   "metadata": {},
   "outputs": [],
   "source": [
    "def validpassword(pwd: str):\n",
    "        if 8 <= len(pwd) <=32 and pwd[0].isalpha() and all(char not in pwd for char in[\" \",\"'\",\"/\",\"=\",'\"',\"\\\\\"]):\n",
    "            print(\"valid paassword\")\n",
    "        else:\n",
    "            print(\"false\")\n",
    "     "
   ]
  },
  {
   "cell_type": "code",
   "execution_count": 157,
   "id": "511dfef1-7372-4ec5-8887-c67b8a6d22e2",
   "metadata": {},
   "outputs": [
    {
     "name": "stdout",
     "output_type": "stream",
     "text": [
      "false\n"
     ]
    }
   ],
   "source": [
    "validpassword(\"'incjdjdjjd'[[[[\")"
   ]
  },
  {
   "cell_type": "code",
   "execution_count": 159,
   "id": "fcba43d0-59b9-4122-8df9-6f4652f851f0",
   "metadata": {},
   "outputs": [
    {
     "name": "stdout",
     "output_type": "stream",
     "text": [
      "valid paassword\n"
     ]
    }
   ],
   "source": [
    "validpassword(\"inc12Ec56\")\n",
    "\n",
    "              "
   ]
  },
  {
   "cell_type": "code",
   "execution_count": null,
   "id": "1c59401e-c130-4e2f-a14e-f3e5dd8f0be3",
   "metadata": {},
   "outputs": [],
   "source": []
  }
 ],
 "metadata": {
  "kernelspec": {
   "display_name": "Python 3 (ipykernel)",
   "language": "python",
   "name": "python3"
  },
  "language_info": {
   "codemirror_mode": {
    "name": "ipython",
    "version": 3
   },
   "file_extension": ".py",
   "mimetype": "text/x-python",
   "name": "python",
   "nbconvert_exporter": "python",
   "pygments_lexer": "ipython3",
   "version": "3.10.8"
  }
 },
 "nbformat": 4,
 "nbformat_minor": 5
}
